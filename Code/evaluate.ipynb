{
 "cells": [
  {
   "cell_type": "code",
   "execution_count": null,
   "metadata": {},
   "outputs": [],
   "source": [
    "import json\n",
    "\n",
    "def read_txt_to_json(filepath):\n",
    "    data = []\n",
    "    with open(filepath, 'r', encoding='utf-8') as file:\n",
    "        content = file.read()\n",
    "        entries = content.split('},\\n{')\n",
    "        for i, entry in enumerate(entries):\n",
    "            try:\n",
    "                # Add missing brackets and fix entry format\n",
    "                if i == 0:\n",
    "                    entry = entry + '}'\n",
    "                elif i == len(entries) - 1:\n",
    "                    entry = '{' + entry\n",
    "                else:\n",
    "                    entry = '{' + entry + '}'\n",
    "                \n",
    "                # Attempt to parse JSON\n",
    "                data.append(json.loads(entry))\n",
    "            except json.JSONDecodeError as e:\n",
    "                print(f\"Error decoding JSON at entry {i}: {e}\")\n",
    "                print(entry)  # Print the problematic entry for debugging\n",
    "                continue\n",
    "    return data\n",
    "\n",
    "filepath = './content/your_qa.txt'\n",
    "data = read_txt_to_json(filepath)\n",
    "\n",
    "with open('real_estate_data.json', 'w', encoding='utf-8') as json_file:\n",
    "    json.dump(data, json_file, ensure_ascii=False, indent=4)\n"
   ]
  },
  {
   "cell_type": "code",
   "execution_count": null,
   "metadata": {},
   "outputs": [],
   "source": [
    "import os\n",
    "from datasets import load_dataset\n",
    "from ragas import evaluate\n",
    "from ragas.metrics import answer_relevancy, faithfulness, context_recall, context_precision\n",
    "\n",
    "# Thiết lập API key cho OpenAI\n",
    "os.environ[\"OPENAI_API_KEY\"] = \"os.getenv()\"\n",
    "\n",
    "# Tải dữ liệu\n",
    "dataset = load_dataset('json', data_files='real_estate_data.json')\n",
    "\n",
    "# Đánh giá mô hình\n",
    "result = evaluate(\n",
    "    dataset['train'],\n",
    "    metrics=[context_precision, faithfulness, answer_relevancy, context_recall]\n",
    ")\n",
    "\n",
    "# In kết quả đánh giá\n",
    "print(result)\n",
    "\n",
    "# Xuất kết quả thành DataFrame để phân tích thêm\n",
    "df = result.to_pandas()\n",
    "display(df.head(8))"
   ]
  }
 ],
 "metadata": {
  "kernelspec": {
   "display_name": "real_estate",
   "language": "python",
   "name": "python3"
  },
  "language_info": {
   "codemirror_mode": {
    "name": "ipython",
    "version": 3
   },
   "file_extension": ".py",
   "mimetype": "text/x-python",
   "name": "python",
   "nbconvert_exporter": "python",
   "pygments_lexer": "ipython3",
   "version": "3.10.14"
  }
 },
 "nbformat": 4,
 "nbformat_minor": 2
}
