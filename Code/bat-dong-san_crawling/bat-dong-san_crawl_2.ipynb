{
 "cells": [
  {
   "cell_type": "code",
   "execution_count": 1,
   "metadata": {},
   "outputs": [],
   "source": [
    "import time\n",
    "import selenium \n",
    "from selenium import webdriver\n",
    "from selenium.webdriver.common.by import By\n",
    "import undetected_chromedriver as uc\n",
    "\n",
    "import pandas as pd"
   ]
  },
  {
   "cell_type": "markdown",
   "metadata": {},
   "source": [
    "### Mở google chrome:"
   ]
  },
  {
   "cell_type": "code",
   "execution_count": 2,
   "metadata": {},
   "outputs": [],
   "source": [
    "options = uc.ChromeOptions()\n",
    "options.headless = False\n",
    "driver = driver = uc.Chrome(options=options)"
   ]
  },
  {
   "cell_type": "code",
   "execution_count": 3,
   "metadata": {},
   "outputs": [],
   "source": [
    "#driver.close()"
   ]
  },
  {
   "cell_type": "markdown",
   "metadata": {},
   "source": [
    "### Lấy danh sách các trang:"
   ]
  },
  {
   "cell_type": "code",
   "execution_count": 4,
   "metadata": {},
   "outputs": [],
   "source": [
    "def get_page_list(num_pages, base_url):\n",
    "    url_list = []\n",
    "\n",
    "    for i in range(num_pages):\n",
    "        if i == 0:\n",
    "            url = base_url\n",
    "            url_list.append(url)\n",
    "        else:\n",
    "            url = base_url + \"/p\" + str(i+1)\n",
    "            url_list.append(url)\n",
    "            \n",
    "    return url_list"
   ]
  },
  {
   "cell_type": "markdown",
   "metadata": {},
   "source": [
    "### Lấy liên kết của các trang và thông tin trong từng trang:"
   ]
  },
  {
   "cell_type": "code",
   "execution_count": 5,
   "metadata": {},
   "outputs": [],
   "source": [
    "def get_information(accoms, feature_list, address_list, publishing_date_list, expiry_date_list, news_category_list):\n",
    "    for accom in accoms:\n",
    "        driver.get(accom['URL'])\n",
    "        time.sleep(10)\n",
    "    \n",
    "        feature_elems = driver.find_elements(By.CLASS_NAME , \"re__pr-specs-content-item\")\n",
    "        temp = []\n",
    "        for elem in feature_elems:\n",
    "            temp.append(elem.text) \n",
    "        temp_combined = ',\\t'.join(temp)\n",
    "        feature_list.append(temp_combined) \n",
    "\n",
    "        address_elems = driver.find_elements(By.XPATH, \"//span[contains(@class, \\'re__pr-short-description js__pr-address\\')]\")\n",
    "        for elem in address_elems:\n",
    "            address_list.append(elem.text)\n",
    "            \n",
    "        date_elems = driver.find_elements(By.XPATH, \"//div[contains(@class, \\\"re__pr-short-info-item js__pr-config-item\\\")]\")\n",
    "        date_list = []\n",
    "        for elem in date_elems:\n",
    "            date_list.append(elem.text)\n",
    "        \n",
    "        publishing_date_list.append(date_list[0])   \n",
    "        expiry_date_list.append(date_list[1])\n",
    "        news_category_list.append(date_list[2])\n",
    "\n",
    "        \"\"\" description_elems = driver.find_elements(By.XPATH, \"//div[contains(@class, \\\"re__section-body re__detail-content js__section-body js__pr-description js__tracking\\\")]\")\n",
    "        for elem in description_elems:\n",
    "            description_list.append(elem.text)  \"\"\""
   ]
  },
  {
   "cell_type": "markdown",
   "metadata": {},
   "source": [
    "### Tạo lớp BĐS, sau đó thêm giá trị của từng thuộc tính:"
   ]
  },
  {
   "cell_type": "code",
   "execution_count": 6,
   "metadata": {},
   "outputs": [],
   "source": [
    "class Property:\n",
    "    def __init__(self):\n",
    "        self.dien_tich = None\n",
    "        self.mat_tien = None\n",
    "        self.muc_gia = None\n",
    "        self.so_tang = None\n",
    "        self.so_phong_ngu = None\n",
    "        self.so_toilet = None\n",
    "        self.phap_ly = None\n",
    "        self.noi_that = None\n",
    "        self.huong_nha = None\n",
    "        self.huong_ban_cong = None\n",
    "        self.duong_vao = None\n",
    "\n",
    "def extract_features_information(data):\n",
    "    information = Property()\n",
    "    for item in data:\n",
    "        lines = item.split(',\\t')\n",
    "        for line in lines:\n",
    "            key, value = line.split('\\n', 1)\n",
    "            key = key.strip()\n",
    "            value = value.strip()\n",
    "\n",
    "            if key == 'Diện tích':\n",
    "                information.dien_tich = value\n",
    "            elif key == 'Mặt tiền':\n",
    "                information.mat_tien = value\n",
    "            elif key == 'Mức giá':\n",
    "                information.muc_gia = value\n",
    "            elif key == 'Số tầng':\n",
    "                information.so_tang = value\n",
    "            elif key == 'Số phòng ngủ':\n",
    "                information.so_phong_ngu = value\n",
    "            elif key == 'Số toilet':\n",
    "                information.so_toilet = value\n",
    "            elif key == 'Pháp lý':\n",
    "                information.phap_ly = value\n",
    "            elif key == 'Nội thất':\n",
    "                information.noi_that = value\n",
    "            elif key == 'Hướng nhà':\n",
    "                information.huong_nha = value\n",
    "            elif key == 'Hướng ban công':\n",
    "                information.huong_ban_cong = value\n",
    "            elif key == 'Đường vào':\n",
    "                information.duong_vao = value\n",
    "\n",
    "    return information\n",
    "\n",
    "def extract_date_information(data):\n",
    "    _, value = data.split('\\n', 1)\n",
    "    return value"
   ]
  },
  {
   "cell_type": "markdown",
   "metadata": {},
   "source": [
    "### Xử lý dữ liệu và đưa vào DataFrame:"
   ]
  },
  {
   "cell_type": "code",
   "execution_count": 7,
   "metadata": {},
   "outputs": [],
   "source": [
    "def data_processing(feature_list, address_list, publishing_date_list, expiry_date_list, news_category_list):\n",
    "    # Trích xuất thông tin và tạo danh sách các đối tượng Property\n",
    "    properties = []\n",
    "    for temp in feature_list:\n",
    "        property_info = extract_features_information([temp])\n",
    "        properties.append(property_info)\n",
    "        \n",
    "    publishing_dates = []\n",
    "    for temp in publishing_date_list:\n",
    "        publishing_dates_info = extract_date_information(temp)\n",
    "        publishing_dates.append(publishing_dates_info)\n",
    "\n",
    "    expiry_dates = []\n",
    "    for temp in expiry_date_list:\n",
    "        expiry_dates_info = extract_date_information(temp)\n",
    "        expiry_dates.append(expiry_dates_info)\n",
    "        \n",
    "    news_categories = []\n",
    "    for temp in news_category_list:\n",
    "        news_categories_info = extract_date_information(temp)\n",
    "        news_categories.append(news_categories_info)\n",
    "        \n",
    "    # Tạo DataFrame từ thuộc tính của các đối tượng Property\n",
    "    data = {\n",
    "        'Diện tích': [prop.dien_tich for prop in properties],\n",
    "        'Mặt tiền': [prop.mat_tien for prop in properties],\n",
    "        'Mức giá': [prop.muc_gia for prop in properties],\n",
    "        'Số tầng': [prop.so_tang for prop in properties],\n",
    "        'Số phòng ngủ': [prop.so_phong_ngu for prop in properties],\n",
    "        'Số toilet': [prop.so_toilet for prop in properties],\n",
    "        'Pháp lý': [prop.phap_ly for prop in properties],\n",
    "        'Nội thất': [prop.noi_that for prop in properties],\n",
    "        'Hướng nhà': [prop.huong_nha for prop in properties],\n",
    "        'Hướng ban công': [prop.huong_ban_cong for prop in properties],\n",
    "        'Đường vào': [prop.duong_vao for prop in properties],\n",
    "        'Ngày đăng': [date for date in publishing_dates], \n",
    "        'Ngày hết hạn': [date for date in expiry_dates],\n",
    "        'Loại tin': [category for category in news_categories],\n",
    "        'Địa chỉ': [address for address in address_list]\n",
    "        #'Mô tả': [description for description in description_list]\n",
    "    }\n",
    "\n",
    "    df = pd.DataFrame(data)\n",
    "    return df"
   ]
  },
  {
   "cell_type": "markdown",
   "metadata": {},
   "source": [
    "### Xử lý từng trang và trả về file csv:"
   ]
  },
  {
   "cell_type": "code",
   "execution_count": 8,
   "metadata": {},
   "outputs": [],
   "source": [
    "def get_page(num_pages, page_list):\n",
    "    i = 5\n",
    "\n",
    "    while i < num_pages:\n",
    "        url = page_list[i]\n",
    "        driver.get(url)\n",
    "        time.sleep(10)\n",
    "        \n",
    "        accom_categories = driver.find_elements(By.CLASS_NAME, value='js__product-link-for-product-id')\n",
    "    \n",
    "        accoms = []\n",
    "        for category in accom_categories:\n",
    "            accoms_url = category.get_attribute('href')\n",
    "            accoms_title = category.text\n",
    "            accoms.append({'Title': accoms_title, 'URL': accoms_url}) # accoms -> dictionary\n",
    "        \n",
    "        # Danh sách dữ liệu mẫu\n",
    "        feature_list = []\n",
    "        address_list = []\n",
    "        #description_list = []\n",
    "        publishing_date_list = []\n",
    "        expiry_date_list = []\n",
    "        news_category_list = []\n",
    "\n",
    "        # Lấy dữ liệu từ các trang\n",
    "        get_information(accoms, feature_list, address_list, publishing_date_list, expiry_date_list, news_category_list)\n",
    "        \n",
    "        # Lưu vào file csv\n",
    "        df = data_processing(feature_list, address_list, publishing_date_list, expiry_date_list, news_category_list)\n",
    "        \n",
    "        # Tạo DataFrame và lưu vào tệp CSV\n",
    "        df.to_csv('nhabietthulienke_govap_page{}.csv'.format(i+1), index=False, encoding='utf-8-sig')\n",
    "        \n",
    "        i+=1"
   ]
  },
  {
   "cell_type": "markdown",
   "metadata": {},
   "source": [
    "### Chạy chương trình:"
   ]
  },
  {
   "cell_type": "code",
   "execution_count": 9,
   "metadata": {},
   "outputs": [],
   "source": [
    "num_pages = 8\n",
    "base_url = \"https://batdongsan.com.vn/ban-nha-biet-thu-lien-ke-go-vap\"\n",
    "page_list = get_page_list(num_pages, base_url)\n",
    "get_page(num_pages, page_list)\n",
    "driver.close()"
   ]
  },
  {
   "cell_type": "markdown",
   "metadata": {},
   "source": [
    "### Test:"
   ]
  },
  {
   "cell_type": "markdown",
   "metadata": {},
   "source": [
    "i = 10\n",
    "num_pages = 20\n",
    "base_url = \"https://batdongsan.com.vn/ban-can-ho-chung-cu-quan-9\"\n",
    "page_list = get_page_list(num_pages, base_url)\n",
    "while i < num_pages:\n",
    "    print(page_list[i])\n",
    "    i+=1 "
   ]
  }
 ],
 "metadata": {
  "kernelspec": {
   "display_name": "Python 3 (ipykernel)",
   "language": "python",
   "name": "python3"
  },
  "language_info": {
   "codemirror_mode": {
    "name": "ipython",
    "version": 3
   },
   "file_extension": ".py",
   "mimetype": "text/x-python",
   "name": "python",
   "nbconvert_exporter": "python",
   "pygments_lexer": "ipython3",
   "version": "3.10.8"
  }
 },
 "nbformat": 4,
 "nbformat_minor": 2
}
