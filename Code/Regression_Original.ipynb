{
  "cells": [
    {
      "cell_type": "markdown",
      "metadata": {
        "colab_type": "text",
        "id": "view-in-github"
      },
      "source": [
        "<a href=\"https://colab.research.google.com/github/NgdHung31/Real_Estate_Regession_Deep_Learning/blob/main/Kaggle_KerassRegression.ipynb\" target=\"_parent\"><img src=\"https://colab.research.google.com/assets/colab-badge.svg\" alt=\"Open In Colab\"/></a>\n"
      ]
    },
    {
      "cell_type": "markdown",
      "metadata": {
        "id": "1SiwLKBaJ72J"
      },
      "source": [
        "# Real Estate Price Prediction\n"
      ]
    },
    {
      "cell_type": "code",
      "execution_count": 1,
      "metadata": {
        "colab": {
          "base_uri": "https://localhost:8080/"
        },
        "id": "dGChnkOCFNLo",
        "outputId": "c3a05d40-6c05-498f-f450-dc428da8a2cf"
      },
      "outputs": [
        {
          "name": "stdout",
          "output_type": "stream",
          "text": [
            "Note: you may need to restart the kernel to use updated packages.\n",
            "Note: you may need to restart the kernel to use updated packages.\n",
            "/home/dev_ai/anaconda3/envs/real-estate/lib/python3.10/site-packages/gdown/__main__.py:140: FutureWarning: Option `--id` was deprecated in version 4.3.1 and will be removed in 5.0. You don't need to pass it anymore to use a file ID.\n",
            "  warnings.warn(\n",
            "Downloading...\n",
            "From: https://drive.google.com/uc?id=1H98Xv24pGw9jTQO5sJsp6X8xRPfrxiHG\n",
            "To: /home/dev_ai/Real_Estate_Regession_Deep_Learning/content/dataset_non_outliers_Price_Area.csv\n",
            "100%|██████████████████████████████████████| 9.23M/9.23M [00:01<00:00, 9.16MB/s]\n"
          ]
        }
      ],
      "source": [
        "%pip install gdown -U -q\n",
        "%pip install scikit-learn -U -q\n",
        "# %pip install tensorflow -U -q\n",
        "!gdown --id 1H98Xv24pGw9jTQO5sJsp6X8xRPfrxiHG --output \"./content/dataset_non_outliers_Price_Area.csv\""
      ]
    },
    {
      "cell_type": "code",
      "execution_count": 2,
      "metadata": {},
      "outputs": [],
      "source": [
        "# import required libraries\n",
        "import matplotlib.pyplot as plt\n",
        "import pandas as pd\n",
        "import numpy as np\n",
        "import seaborn as sns\n",
        "\n",
        "sns.set_theme()"
      ]
    },
    {
      "cell_type": "code",
      "execution_count": 3,
      "metadata": {},
      "outputs": [],
      "source": [
        "# read the csv file\n",
        "Data = pd.read_csv(\n",
        "    \"./content/dataset_non_outliers_Price_Area.csv\", low_memory=False)"
      ]
    },
    {
      "cell_type": "markdown",
      "metadata": {},
      "source": [
        "# Exploratory Data Analysis\n"
      ]
    },
    {
      "cell_type": "code",
      "execution_count": null,
      "metadata": {},
      "outputs": [],
      "source": [
        "Data.head(5)"
      ]
    },
    {
      "cell_type": "code",
      "execution_count": null,
      "metadata": {},
      "outputs": [],
      "source": [
        "# get some information about our DataSet\n",
        "Data.info()\n",
        "Data.describe().transpose()"
      ]
    },
    {
      "cell_type": "code",
      "execution_count": null,
      "metadata": {},
      "outputs": [],
      "source": [
        "# let's drop unnecessory featurs\n",
        "# Data = Data.drop('id',axis=1)\n",
        "# Data = Data.drop('zipcode',axis=1)"
      ]
    },
    {
      "cell_type": "code",
      "execution_count": null,
      "metadata": {},
      "outputs": [],
      "source": [
        "# check if there are any Null values\n",
        "Data.isnull().sum()"
      ]
    },
    {
      "cell_type": "code",
      "execution_count": null,
      "metadata": {},
      "outputs": [],
      "source": [
        "# visualizing house prices\n",
        "fig = plt.figure(figsize=(10, 7))\n",
        "fig.add_subplot(2, 1, 1)\n",
        "sns.histplot(Data[\"Price\"], kde=True, bins=20)\n",
        "fig.add_subplot(2, 1, 2)\n",
        "sns.boxplot(Data[\"Price\"])\n",
        "plt.tight_layout()"
      ]
    },
    {
      "cell_type": "markdown",
      "metadata": {},
      "source": [
        "## Feature Engineer\n"
      ]
    },
    {
      "cell_type": "code",
      "execution_count": 4,
      "metadata": {},
      "outputs": [
        {
          "data": {
            "text/plain": [
              "Property_type             0\n",
              "Area                      0\n",
              "Number_of_floors       7146\n",
              "Number_of_bedrooms     5950\n",
              "Number_of_toilets     10690\n",
              "Legal_status              0\n",
              "Furniture                 0\n",
              "Project_name              0\n",
              "District                  0\n",
              "Distance                  0\n",
              "Price                     0\n",
              "dtype: int64"
            ]
          },
          "execution_count": 4,
          "metadata": {},
          "output_type": "execute_result"
        }
      ],
      "source": [
        "Data = Data.drop(\n",
        "    labels=[\n",
        "        \"Frontage\",\n",
        "        \"Street\",\n",
        "        \"Ward\",\n",
        "        \"Province\",\n",
        "        \"Width\",\n",
        "        \"Length\",\n",
        "        \"House_orientation\",\n",
        "        \"Balcony_orientation\",\n",
        "        \"Access_road\",\n",
        "        \"Posting_date\",\n",
        "        \"Expiry_date\",\n",
        "        \"Type_of_listing\",\n",
        "    ],\n",
        "    axis=1,\n",
        ")\n",
        "\n",
        "Data.loc[Data[\"Property_type\"] == \"Chung cư\", \"Number_of_floors\"] = 1\n",
        "Data.loc[pd.isnull(Data[\"Project_name\"]), \"Project_name\"] = \"Other\"\n",
        "\n",
        "Data.isnull().sum()"
      ]
    },
    {
      "cell_type": "code",
      "execution_count": 6,
      "metadata": {},
      "outputs": [],
      "source": [
        "Data = Data.rename(\n",
        "    columns={\n",
        "        \"Number_of_floors\": \"Floors\",\n",
        "        \"Number_of_bedrooms\": \"Bedrooms\",\n",
        "        \"Number_of_toilets\": \"Toilets\",\n",
        "    }\n",
        ")\n",
        "\n",
        "# Convert object value to numeric value\n",
        "Data[\"Toilets\"] = Data[\"Toilets\"].replace(\"Nhiều hơn 6 phòng\", 7)\n",
        "Data[\"Toilets\"] = pd.to_numeric(Data[\"Toilets\"], errors=\"coerce\")"
      ]
    },
    {
      "cell_type": "code",
      "execution_count": 7,
      "metadata": {},
      "outputs": [],
      "source": [
        "Data = Data.dropna()"
      ]
    },
    {
      "cell_type": "code",
      "execution_count": 8,
      "metadata": {},
      "outputs": [
        {
          "name": "stderr",
          "output_type": "stream",
          "text": [
            "/tmp/ipykernel_131988/14768520.py:10: UserWarning: The figure layout has changed to tight\n",
            "  plt.tight_layout()\n"
          ]
        },
        {
          "data": {
            "image/png": "[encoded data removed]",
            "text/plain": [
              "<Figure size 1500x700 with 3 Axes>"
            ]
          },
          "metadata": {},
          "output_type": "display_data"
        }
      ],
      "source": [
        "# visualizing bedrooms, bathrooms, floors,grades\n",
        "fig = plt.figure(figsize=(15, 7), constrained_layout=True)\n",
        "fig.add_subplot(3, 1, 1)\n",
        "sns.countplot(x=\"Bedrooms\", hue=\"Bedrooms\", data=Data,\n",
        "              palette=\"Greens_d\", legend=True)\n",
        "fig.add_subplot(3, 1, 2)\n",
        "sns.countplot(x=\"Floors\", hue=\"Floors\", data=Data)\n",
        "fig.add_subplot(3, 1, 3)\n",
        "sns.countplot(x=\"Toilets\", hue=\"Toilets\", data=Data)\n",
        "plt.tight_layout()"
      ]
    },
    {
      "cell_type": "markdown",
      "metadata": {},
      "source": [
        "# Encoding the values\n"
      ]
    },
    {
      "cell_type": "code",
      "execution_count": null,
      "metadata": {},
      "outputs": [],
      "source": [
        "Data.info()\n",
        "Data.describe().transpose()"
      ]
    },
    {
      "cell_type": "code",
      "execution_count": 9,
      "metadata": {},
      "outputs": [
        {
          "data": {
            "text/html": [
              "<div>\n",
              "<style scoped>\n",
              "    .dataframe tbody tr th:only-of-type {\n",
              "        vertical-align: middle;\n",
              "    }\n",
              "\n",
              "    .dataframe tbody tr th {\n",
              "        vertical-align: top;\n",
              "    }\n",
              "\n",
              "    .dataframe thead th {\n",
              "        text-align: right;\n",
              "    }\n",
              "</style>\n",
              "<table border=\"1\" class=\"dataframe\">\n",
              "  <thead>\n",
              "    <tr style=\"text-align: right;\">\n",
              "      <th></th>\n",
              "      <th>Property_type</th>\n",
              "      <th>Area</th>\n",
              "      <th>Floors</th>\n",
              "      <th>Bedrooms</th>\n",
              "      <th>Toilets</th>\n",
              "      <th>Legal_status</th>\n",
              "      <th>Furniture</th>\n",
              "      <th>Project_name</th>\n",
              "      <th>District</th>\n",
              "      <th>Distance</th>\n",
              "      <th>Price</th>\n",
              "    </tr>\n",
              "  </thead>\n",
              "  <tbody>\n",
              "    <tr>\n",
              "      <th>0</th>\n",
              "      <td>1.0</td>\n",
              "      <td>80.0</td>\n",
              "      <td>3.0</td>\n",
              "      <td>4.0</td>\n",
              "      <td>3.0</td>\n",
              "      <td>3.0</td>\n",
              "      <td>1.0</td>\n",
              "      <td>428.0</td>\n",
              "      <td>0.0</td>\n",
              "      <td>9.623252</td>\n",
              "      <td>6.5</td>\n",
              "    </tr>\n",
              "    <tr>\n",
              "      <th>1</th>\n",
              "      <td>1.0</td>\n",
              "      <td>80.0</td>\n",
              "      <td>3.0</td>\n",
              "      <td>3.0</td>\n",
              "      <td>3.0</td>\n",
              "      <td>3.0</td>\n",
              "      <td>1.0</td>\n",
              "      <td>393.0</td>\n",
              "      <td>0.0</td>\n",
              "      <td>9.623252</td>\n",
              "      <td>7.9</td>\n",
              "    </tr>\n",
              "    <tr>\n",
              "      <th>2</th>\n",
              "      <td>1.0</td>\n",
              "      <td>136.5</td>\n",
              "      <td>3.0</td>\n",
              "      <td>4.0</td>\n",
              "      <td>4.0</td>\n",
              "      <td>3.0</td>\n",
              "      <td>1.0</td>\n",
              "      <td>385.0</td>\n",
              "      <td>0.0</td>\n",
              "      <td>9.623252</td>\n",
              "      <td>10.8</td>\n",
              "    </tr>\n",
              "    <tr>\n",
              "      <th>3</th>\n",
              "      <td>1.0</td>\n",
              "      <td>95.0</td>\n",
              "      <td>5.0</td>\n",
              "      <td>5.0</td>\n",
              "      <td>4.0</td>\n",
              "      <td>3.0</td>\n",
              "      <td>2.0</td>\n",
              "      <td>1063.0</td>\n",
              "      <td>0.0</td>\n",
              "      <td>14.245030</td>\n",
              "      <td>7.6</td>\n",
              "    </tr>\n",
              "    <tr>\n",
              "      <th>4</th>\n",
              "      <td>1.0</td>\n",
              "      <td>90.0</td>\n",
              "      <td>5.0</td>\n",
              "      <td>5.0</td>\n",
              "      <td>4.0</td>\n",
              "      <td>3.0</td>\n",
              "      <td>2.0</td>\n",
              "      <td>1063.0</td>\n",
              "      <td>0.0</td>\n",
              "      <td>14.245030</td>\n",
              "      <td>7.6</td>\n",
              "    </tr>\n",
              "  </tbody>\n",
              "</table>\n",
              "</div>"
            ],
            "text/plain": [
              "   Property_type   Area  Floors  Bedrooms  Toilets  Legal_status  Furniture  \\\n",
              "0            1.0   80.0     3.0       4.0      3.0           3.0        1.0   \n",
              "1            1.0   80.0     3.0       3.0      3.0           3.0        1.0   \n",
              "2            1.0  136.5     3.0       4.0      4.0           3.0        1.0   \n",
              "3            1.0   95.0     5.0       5.0      4.0           3.0        2.0   \n",
              "4            1.0   90.0     5.0       5.0      4.0           3.0        2.0   \n",
              "\n",
              "   Project_name  District   Distance  Price  \n",
              "0         428.0       0.0   9.623252    6.5  \n",
              "1         393.0       0.0   9.623252    7.9  \n",
              "2         385.0       0.0   9.623252   10.8  \n",
              "3        1063.0       0.0  14.245030    7.6  \n",
              "4        1063.0       0.0  14.245030    7.6  "
            ]
          },
          "execution_count": 9,
          "metadata": {},
          "output_type": "execute_result"
        }
      ],
      "source": [
        "from sklearn.preprocessing import OrdinalEncoder\n",
        "import pickle\n",
        "\n",
        "# Create an instance of OrdinalEncoder\n",
        "Encoder = OrdinalEncoder()\n",
        "Encoder.set_params(encoded_missing_value=-1)\n",
        "\n",
        "Categorical_columns = [\n",
        "    \"Property_type\",\n",
        "    \"Legal_status\",\n",
        "    \"Furniture\",\n",
        "    \"Project_name\",\n",
        "    \"District\",\n",
        "]\n",
        "\n",
        "# Fit the encoder to your data\n",
        "Encoder.fit(Data[Categorical_columns])\n",
        "\n",
        "# Transform your data using the encoder\n",
        "Data[Categorical_columns] = Encoder.transform(Data[Categorical_columns])\n",
        "\n",
        "with open('encoder.pkl', 'wb') as f:\n",
        "    pickle.dump(Encoder, f)\n",
        "\n",
        "# Print the encoded data\n",
        "Data.head(5)"
      ]
    },
    {
      "cell_type": "code",
      "execution_count": 10,
      "metadata": {},
      "outputs": [
        {
          "data": {
            "text/plain": [
              "Property_type    0\n",
              "Area             0\n",
              "Floors           0\n",
              "Bedrooms         0\n",
              "Toilets          0\n",
              "Legal_status     0\n",
              "Furniture        0\n",
              "Project_name     0\n",
              "District         0\n",
              "Distance         0\n",
              "Price            0\n",
              "dtype: int64"
            ]
          },
          "execution_count": 10,
          "metadata": {},
          "output_type": "execute_result"
        }
      ],
      "source": [
        "# Sử dụng model Machine Learning để dự đoán giá trị bị thiếu\n",
        "from sklearn.experimental import enable_iterative_imputer\n",
        "from sklearn.impute import IterativeImputer\n",
        "\n",
        "cols = [\"Property_type\", \"Area\", \"Floors\", \"Bedrooms\", \"Toilets\"]\n",
        "impute_it = IterativeImputer()\n",
        "Data[cols] = impute_it.fit_transform(Data[cols])\n",
        "\n",
        "Data.isnull().sum()"
      ]
    },
    {
      "cell_type": "code",
      "execution_count": null,
      "metadata": {},
      "outputs": [],
      "source": [
        "Data.head(7)"
      ]
    },
    {
      "cell_type": "markdown",
      "metadata": {},
      "source": [
        "# Scaling and Train Test Split\n"
      ]
    },
    {
      "cell_type": "code",
      "execution_count": 11,
      "metadata": {},
      "outputs": [
        {
          "name": "stdout",
          "output_type": "stream",
          "text": [
            "Train size:  (27528, 10)\n",
            "Test size:  (6882, 10)\n"
          ]
        }
      ],
      "source": [
        "from sklearn.model_selection import train_test_split\n",
        "X = Data.drop(\"Price\", axis=1).values\n",
        "y = Data[\"Price\"].values\n",
        "\n",
        "# splitting Train and Test\n",
        "\n",
        "X_train, X_test, y_train, y_test = train_test_split(\n",
        "    X, y, test_size=0.2, random_state=101\n",
        ")\n",
        "print(\"Train size: \", X_train.shape)\n",
        "print(\"Test size: \", X_test.shape)"
      ]
    },
    {
      "cell_type": "markdown",
      "metadata": {
        "id": "dyF9AUtkVHsC"
      },
      "source": [
        "# Lightning\n"
      ]
    },
    {
      "cell_type": "code",
      "execution_count": null,
      "metadata": {},
      "outputs": [],
      "source": [
        "# %pip install lightning -U -q"
      ]
    },
    {
      "cell_type": "code",
      "execution_count": 12,
      "metadata": {
        "id": "oYfDNblga6Iq"
      },
      "outputs": [
        {
          "name": "stderr",
          "output_type": "stream",
          "text": [
            "/home/dev_ai/anaconda3/envs/real-estate/lib/python3.10/site-packages/tqdm/auto.py:21: TqdmWarning: IProgress not found. Please update jupyter and ipywidgets. See https://ipywidgets.readthedocs.io/en/stable/user_install.html\n",
            "  from .autonotebook import tqdm as notebook_tqdm\n"
          ]
        }
      ],
      "source": [
        "import torch\n",
        "import lightning as L\n",
        "# from sklearn import preprocessing\n",
        "from torch.utils.data import TensorDataset, DataLoader, random_split\n",
        "from sklearn.preprocessing import StandardScaler\n",
        "import torch.nn as nn\n",
        "import torch.nn.functional as F\n",
        "import torch.optim as optim\n",
        "from collections import OrderedDict\n",
        "from sklearn import metrics\n",
        "from torchmetrics import MeanSquaredError, MeanAbsoluteError, R2Score\n",
        "\n",
        "\n",
        "class LitDataModule(L.LightningDataModule):\n",
        "    def __init__(self, batch_size, num_workers, data):\n",
        "        super(LitDataModule, self).__init__()\n",
        "        self.batch_size = batch_size\n",
        "        self.num_workers = num_workers\n",
        "        self.data = data\n",
        "\n",
        "    def setup(self, stage=None):\n",
        "        x = self.data.drop('Price', axis=1).values\n",
        "        y = self.data['Price'].values\n",
        "\n",
        "        s_scaler = StandardScaler()\n",
        "        x = s_scaler.fit_transform(x)\n",
        "\n",
        "        with open('scaler.pkl', 'wb') as f:\n",
        "            pickle.dump(s_scaler, f)\n",
        "\n",
        "        dataset = TensorDataset(torch.tensor(\n",
        "            x, dtype=torch.float32), torch.tensor(y, dtype=torch.float32))\n",
        "\n",
        "        train_size = int(0.9 * len(dataset))\n",
        "        test_size = int(0.05 * len(dataset))\n",
        "        val_size = int(len(dataset) - train_size - test_size)\n",
        "        print('Train size: ', train_size)\n",
        "        print('Test size: ', test_size)\n",
        "        print('Validation size: ', val_size)\n",
        "        self.train_dataset, self.valid_dataset, self.test_dataset = random_split(\n",
        "            dataset, [train_size, val_size, test_size])\n",
        "\n",
        "    def train_dataloader(self):\n",
        "        dataloader = DataLoader(self.train_dataset,\n",
        "                                batch_size=self.batch_size,\n",
        "                                shuffle=True,\n",
        "                                num_workers=self.num_workers,\n",
        "                                pin_memory=True,\n",
        "                                drop_last=False)\n",
        "        return dataloader\n",
        "\n",
        "    def val_dataloader(self):\n",
        "        dataloader = DataLoader(self.valid_dataset,\n",
        "                                batch_size=self.batch_size,\n",
        "                                num_workers=self.num_workers,\n",
        "                                pin_memory=True,\n",
        "                                drop_last=False)\n",
        "        return dataloader\n",
        "\n",
        "    def test_dataloader(self):\n",
        "        dataloader = DataLoader(self.test_dataset,\n",
        "                                batch_size=self.batch_size,\n",
        "                                num_workers=self.num_workers,\n",
        "                                pin_memory=True,\n",
        "                                drop_last=False)\n",
        "        return dataloader"
      ]
    },
    {
      "cell_type": "code",
      "execution_count": 13,
      "metadata": {
        "id": "t81mytzRVHTJ"
      },
      "outputs": [],
      "source": [
        "class LitDNNModule(L.LightningModule):\n",
        "    def __init__(self, learning_rate=0.02):\n",
        "        super(LitDNNModule, self).__init__()\n",
        "        self.learning_rate = learning_rate\n",
        "        self.loss_fn = nn.MSELoss()\n",
        "        self.layers = nn.Sequential(OrderedDict(\n",
        "            self.get_fclayer_list([10, 1024, 256, 128, 128, 64])))\n",
        "\n",
        "        # Define metrics\n",
        "        self.mse = MeanSquaredError()\n",
        "        self.rmse = MeanSquaredError(squared=False)  # RMSE\n",
        "        self.mae = MeanAbsoluteError()\n",
        "\n",
        "    # creates a list of hidden layers with given number of neuron in each layer and connects it to the output layer.\n",
        "    # Relu is used as the activation funtion. No activation function is applied for the last layer output\n",
        "    def get_fclayer_list(self, hidden_layers, outputs=1):\n",
        "        input_layers, output_layers = hidden_layers[:-1], hidden_layers[1:]\n",
        "        layers = []\n",
        "        for i, (l1, l2) in enumerate(zip(input_layers, output_layers)):\n",
        "            layers.append((f'fc{i}', nn.Linear(l1, l2)))\n",
        "            layers.append((f'prelu{i}', nn.PReLU()))\n",
        "            layers.append((f\"dropout{i}\", nn.Dropout(0.1)))\n",
        "        layers.append(('fc_out', nn.Linear(output_layers[-1], outputs)))\n",
        "        return layers\n",
        "\n",
        "    def forward(self, x):\n",
        "        return self.layers(x)\n",
        "\n",
        "    def shared_step(self, batch, batch_idx):\n",
        "        x, y = batch\n",
        "        y_pred = self.forward(x)\n",
        "        y = y.view(y.size(0), -1)\n",
        "        loss = self.loss_fn(y, y_pred)\n",
        "        return loss, y_pred\n",
        "\n",
        "    def configure_optimizers(self):\n",
        "        optimizer = optim.Adadelta(\n",
        "            self.parameters(), lr=self.learning_rate, rho=0.9, eps=1e-6, weight_decay=0)\n",
        "        # scheduler = optim.lr_scheduler.CosineAnnealingLR(\n",
        "        #     optimizer, T_max=20, eta_min=0.0, verbose=True\n",
        "        # )\n",
        "\n",
        "        return {\"optimizer\": optimizer,\n",
        "                # \"lr_scheduler\": {\n",
        "                #     \"scheduler\": scheduler,\n",
        "                #     \"monitor\": \"train_loss\",\n",
        "                #     \"frequency\": 1,\n",
        "                # },\n",
        "                }\n",
        "\n",
        "    def training_step(self, batch, batch_idx):\n",
        "        loss, y_pred = self.shared_step(batch, batch_idx)\n",
        "        self.log('train_loss', loss)\n",
        "        return loss\n",
        "\n",
        "    def validation_step(self, batch, batch_idx):\n",
        "        loss, y_pred = self.shared_step(batch, batch_idx)\n",
        "        self.log(\"val_loss\", loss)\n",
        "        return {\"val_loss\": loss}\n",
        "\n",
        "    def test_step(self, batch, batch_idx):\n",
        "        x, y = batch\n",
        "        y = y.to('cpu')\n",
        "        y = y.view(y.size(0), -1)\n",
        "        loss, y_pred = self.shared_step(batch, batch_idx)\n",
        "        y_pred = y_pred.to('cpu')\n",
        "        VarScore = metrics.explained_variance_score(y, y_pred)\n",
        "        mse = self.mse(y_pred, y)\n",
        "        rmse = self.rmse(y_pred, y)\n",
        "        mae = self.mae(y_pred, y)\n",
        "        self.log('Varian Score: ', VarScore)\n",
        "        self.log('MSE Score', mse)\n",
        "        self.log('RMSE Score', rmse)\n",
        "        self.log('MAE Score', mae)\n",
        "        return y_pred, VarScore, mse, rmse, mae"
      ]
    },
    {
      "cell_type": "code",
      "execution_count": null,
      "metadata": {
        "colab": {
          "base_uri": "https://localhost:8080/"
        },
        "id": "GUEZzXXMbMXh",
        "outputId": "93970409-1e5f-4a94-9dac-e423c4017ecb"
      },
      "outputs": [],
      "source": [
        "from argparse import Namespace\n",
        "import torch\n",
        "from lightning import seed_everything\n",
        "from lightning.pytorch.callbacks.early_stopping import EarlyStopping\n",
        "from lightning.pytorch.callbacks import LearningRateMonitor\n",
        "from lightning.pytorch.tuner import Tuner\n",
        "\n",
        "torch.set_float32_matmul_precision(\"highest\")\n",
        "# Define hparams\n",
        "hparams = Namespace(\n",
        "    checkpoint_name='./checkpoint/final.ckpt',\n",
        "    data_folder='./content',\n",
        "    default_root_dir='./logs',\n",
        "    gpus=(-1 if torch.cuda.is_available() else 0),\n",
        "    auto_select_gpus=True,\n",
        "    deterministic=True,\n",
        "    fast_dev_run=False\n",
        ")\n",
        "\n",
        "lr_monitor = LearningRateMonitor(logging_interval='epoch')\n",
        "early_stop_callback = EarlyStopping(\n",
        "    monitor='val_loss', min_delta=1e-7, patience=160, verbose=True, mode='min', log_rank_zero_only=True)\n",
        "seed_everything(101)\n",
        "\n",
        "ml_module = LitDNNModule(learning_rate=0.05)\n",
        "data_module = LitDataModule(batch_size=64, num_workers=6, data=Data)\n",
        "# data_module.setup()\n",
        "model_trainer = L.Trainer(\n",
        "    accelerator=\"gpu\", default_root_dir='./logs', callbacks=[early_stop_callback, lr_monitor], max_epochs=10000)\n",
        "model_trainer.logger = L.pytorch.loggers.TensorBoardLogger('logs/', name='exp')\n",
        "\n",
        "# tuner = Tuner(model_trainer)\n",
        "# lr_finder = tuner.lr_find(ml_module, datamodule=data_module)\n",
        "# print(lr_finder.results)\n",
        "\n",
        "\n",
        "def train_model(hparams):\n",
        "    # model_trainer = pl.Trainer.from_argparse_args(hparams)\n",
        "\n",
        "    model_trainer.fit(ml_module, datamodule=data_module)\n",
        "    model_trainer.save_checkpoint(hparams.checkpoint_name)\n",
        "\n",
        "\n",
        "def test_model(hparams):\n",
        "    model = LitDNNModule.load_from_checkpoint(hparams.checkpoint_name)\n",
        "    model_trainer.test(model, datamodule=data_module)\n",
        "\n",
        "\n",
        "# Call train_model() with hparams\n",
        "train_model(hparams=hparams)\n",
        "# test_model(hparams=hparams)"
      ]
    },
    {
      "cell_type": "code",
      "execution_count": null,
      "metadata": {},
      "outputs": [],
      "source": [
        "test_model(hparams=hparams)"
      ]
    }
  ],
  "metadata": {
    "accelerator": "GPU",
    "colab": {
      "gpuType": "T4",
      "include_colab_link": true,
      "provenance": []
    },
    "kernelspec": {
      "display_name": "Python 3",
      "name": "python3"
    },
    "language_info": {
      "codemirror_mode": {
        "name": "ipython",
        "version": 3
      },
      "file_extension": ".py",
      "mimetype": "text/x-python",
      "name": "python",
      "nbconvert_exporter": "python",
      "pygments_lexer": "ipython3",
      "version": "3.10.0"
    }
  },
  "nbformat": 4,
  "nbformat_minor": 0
}
